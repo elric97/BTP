{
 "cells": [
  {
   "cell_type": "code",
   "execution_count": 1,
   "metadata": {},
   "outputs": [
    {
     "name": "stderr",
     "output_type": "stream",
     "text": [
      "Using Theano backend.\n",
      "WARNING (theano.configdefaults): g++ not available, if using conda: `conda install m2w64-toolchain`\n",
      "C:\\Users\\Rachit\\Anaconda3\\lib\\site-packages\\theano\\configdefaults.py:560: UserWarning: DeprecationWarning: there is no c++ compiler.This is deprecated and with Theano 0.11 a c++ compiler will be mandatory\n",
      "  warnings.warn(\"DeprecationWarning: there is no c++ compiler.\"\n",
      "WARNING (theano.configdefaults): g++ not detected ! Theano will be unable to execute optimized C-implementations (for both CPU and GPU) and will default to Python implementations. Performance will be severely degraded. To remove this warning, set Theano flags cxx to an empty string.\n",
      "WARNING (theano.tensor.blas): Using NumPy C-API based implementation for BLAS functions.\n",
      "C:\\Users\\Rachit\\Anaconda3\\lib\\site-packages\\sklearn\\cross_validation.py:41: DeprecationWarning: This module was deprecated in version 0.18 in favor of the model_selection module into which all the refactored classes and functions are moved. Also note that the interface of the new CV iterators are different from that of this module. This module will be removed in 0.20.\n",
      "  \"This module will be removed in 0.20.\", DeprecationWarning)\n"
     ]
    }
   ],
   "source": [
    "import numpy as np\n",
    "import pandas as pd\n",
    "\n",
    "from keras.models import Sequential\n",
    "from keras.layers import Dense,Activation,Layer,Lambda\n",
    "\n",
    "from sklearn.cross_validation import train_test_split\n",
    "from sklearn.preprocessing import StandardScaler\n",
    "from sklearn.metrics import confusion_matrix,accuracy_score"
   ]
  },
  {
   "cell_type": "code",
   "execution_count": 2,
   "metadata": {
    "collapsed": true
   },
   "outputs": [],
   "source": [
    "dataset = pd.read_csv(\"data.csv\")"
   ]
  },
  {
   "cell_type": "code",
   "execution_count": 3,
   "metadata": {
    "collapsed": true
   },
   "outputs": [],
   "source": [
    "dataset.drop([\"id\",\"Unnamed: 32\"],axis=1,inplace=True)"
   ]
  },
  {
   "cell_type": "code",
   "execution_count": 4,
   "metadata": {
    "collapsed": true
   },
   "outputs": [],
   "source": [
    "#mapping Benign to 1 and Malignant to 0\n",
    "dataset[\"diagnosis\"] = dataset[\"diagnosis\"].map({'M':1,'B':0})\n",
    "\n",
    "y = dataset[\"diagnosis\"]\n",
    "X = dataset.drop([\"diagnosis\"],axis=1)"
   ]
  },
  {
   "cell_type": "code",
   "execution_count": 5,
   "metadata": {
    "collapsed": true
   },
   "outputs": [],
   "source": [
    "#dividing data set in training, CV and test set\n",
    "\n",
    "trainX, testX, trainY, testY = train_test_split(X, y, test_size = 0.2, random_state = 42)\n",
    "trainX, valX, trainY, valY = train_test_split(trainX, trainY, test_size = 0.2, random_state = 42)"
   ]
  },
  {
   "cell_type": "code",
   "execution_count": 6,
   "metadata": {},
   "outputs": [
    {
     "name": "stdout",
     "output_type": "stream",
     "text": [
      "(364, 30)\n",
      "(364,)\n",
      "(114, 30)\n"
     ]
    }
   ],
   "source": [
    "#getting the dimensions of the datasets\n",
    "\n",
    "print(trainX.shape)\n",
    "print(trainY.shape)\n",
    "print(testX.shape)"
   ]
  },
  {
   "cell_type": "code",
   "execution_count": 7,
   "metadata": {},
   "outputs": [
    {
     "name": "stderr",
     "output_type": "stream",
     "text": [
      "C:\\Users\\Rachit\\Anaconda3\\lib\\site-packages\\ipykernel_launcher.py:4: UserWarning: Update your `Dense` call to the Keras 2 API: `Dense(input_dim=30, activation=\"relu\", units=50, kernel_initializer=\"uniform\")`\n",
      "  after removing the cwd from sys.path.\n",
      "C:\\Users\\Rachit\\Anaconda3\\lib\\site-packages\\ipykernel_launcher.py:5: UserWarning: Update your `Dense` call to the Keras 2 API: `Dense(input_dim=50, activation=\"relu\", units=40)`\n",
      "  \"\"\"\n",
      "C:\\Users\\Rachit\\Anaconda3\\lib\\site-packages\\ipykernel_launcher.py:6: UserWarning: Update your `Dense` call to the Keras 2 API: `Dense(input_dim=40, activation=\"sigmoid\", units=1)`\n",
      "  \n"
     ]
    }
   ],
   "source": [
    "#creating the neural network model\n",
    "\n",
    "model = Sequential()\n",
    "model.add(Dense(input_dim=30,output_dim=50,init=\"uniform\",activation=\"relu\"))\n",
    "model.add(Dense(input_dim=50,output_dim=40,activation=\"relu\"))\n",
    "model.add(Dense(input_dim=40,output_dim=1,activation=\"sigmoid\"))\n",
    "\n",
    "model.compile(loss=\"binary_crossentropy\",optimizer='adam',metrics=['accuracy'])"
   ]
  },
  {
   "cell_type": "code",
   "execution_count": 8,
   "metadata": {},
   "outputs": [
    {
     "name": "stdout",
     "output_type": "stream",
     "text": [
      "Epoch 1/10\n",
      "364/364 [==============================] - 7s 19ms/step - loss: 0.5759 - acc: 0.8187\n",
      "Epoch 2/10\n",
      "364/364 [==============================] - 7s 20ms/step - loss: 0.3201 - acc: 0.9423\n",
      "Epoch 3/10\n",
      "364/364 [==============================] - 7s 19ms/step - loss: 0.1762 - acc: 0.9505\n",
      "Epoch 4/10\n",
      "364/364 [==============================] - 7s 20ms/step - loss: 0.1138 - acc: 0.9615\n",
      "Epoch 5/10\n",
      "364/364 [==============================] - 7s 20ms/step - loss: 0.0837 - acc: 0.9753\n",
      "Epoch 6/10\n",
      "364/364 [==============================] - 7s 20ms/step - loss: 0.0660 - acc: 0.9835\n",
      "Epoch 7/10\n",
      "364/364 [==============================] - 6s 17ms/step - loss: 0.0558 - acc: 0.9863\n",
      "Epoch 8/10\n",
      "364/364 [==============================] - 7s 20ms/step - loss: 0.0493 - acc: 0.9890\n",
      "Epoch 9/10\n",
      "364/364 [==============================] - 7s 19ms/step - loss: 0.0416 - acc: 0.9890\n",
      "Epoch 10/10\n",
      "364/364 [==============================] - 7s 20ms/step - loss: 0.0375 - acc: 0.9918\n"
     ]
    },
    {
     "data": {
      "text/plain": [
       "<keras.callbacks.History at 0x205a63827b8>"
      ]
     },
     "execution_count": 8,
     "metadata": {},
     "output_type": "execute_result"
    }
   ],
   "source": [
    "#fitting the model to training set\n",
    "\n",
    "scaler = StandardScaler()\n",
    "model.fit(scaler.fit_transform(trainX), trainY,epochs=10,batch_size=20)"
   ]
  },
  {
   "cell_type": "code",
   "execution_count": 9,
   "metadata": {
    "collapsed": true
   },
   "outputs": [],
   "source": [
    "#predicting on test data set we created \n",
    "\n",
    "testN = scaler.transform(testX)\n",
    "predY = model.predict(testN)\n",
    "predY = (predY>0.5)"
   ]
  },
  {
   "cell_type": "code",
   "execution_count": 10,
   "metadata": {},
   "outputs": [
    {
     "name": "stdout",
     "output_type": "stream",
     "text": [
      "[[70  1]\n",
      " [ 1 42]]\n",
      "0.982456140351\n"
     ]
    }
   ],
   "source": [
    "# getting the confusion matrix and accuracy on test set\n",
    "\n",
    "cm = confusion_matrix(testY,predY)\n",
    "acc = accuracy_score(predY,np.array(testY))\n",
    "print(cm)\n",
    "print(acc)"
   ]
  },
  {
   "cell_type": "code",
   "execution_count": 11,
   "metadata": {},
   "outputs": [
    {
     "name": "stdout",
     "output_type": "stream",
     "text": [
      "[[70  1]\n",
      " [ 1 42]]\n",
      "98.2456140351\n"
     ]
    }
   ],
   "source": [
    "cm = confusion_matrix(testY,predY)\n",
    "acc = accuracy_score(predY,np.array(testY))\n",
    "print(cm)\n",
    "print(acc*100)"
   ]
  },
  {
   "cell_type": "code",
   "execution_count": null,
   "metadata": {
    "collapsed": true
   },
   "outputs": [],
   "source": []
  }
 ],
 "metadata": {
  "kernelspec": {
   "display_name": "Python 3",
   "language": "python",
   "name": "python3"
  },
  "language_info": {
   "codemirror_mode": {
    "name": "ipython",
    "version": 3
   },
   "file_extension": ".py",
   "mimetype": "text/x-python",
   "name": "python",
   "nbconvert_exporter": "python",
   "pygments_lexer": "ipython3",
   "version": "3.6.3"
  }
 },
 "nbformat": 4,
 "nbformat_minor": 2
}
